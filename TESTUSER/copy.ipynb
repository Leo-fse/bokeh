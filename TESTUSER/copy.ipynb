{
 "cells": [
  {
   "cell_type": "code",
   "execution_count": 2,
   "metadata": {},
   "outputs": [
    {
     "name": "stdout",
     "output_type": "stream",
     "text": [
      "エラーが発生しました: [WinError 3] 指定されたパスが見つかりません。: '/path/to/source/folder'\n"
     ]
    }
   ],
   "source": [
    "import os\n",
    "import shutil\n",
    "\n",
    "\n",
    "def copy_folder(src, dst):\n",
    "    \"\"\"\n",
    "    指定したフォルダの完全なコピーを作成する関数\n",
    "\n",
    "    :param src: コピー元のフォルダパス\n",
    "    :param dst: コピー先のフォルダパス\n",
    "    \"\"\"\n",
    "    try:\n",
    "        # コピー先のフォルダが存在しない場合は作成\n",
    "        if not os.path.exists(dst):\n",
    "            os.makedirs(dst)\n",
    "\n",
    "        # フォルダ内の全てのアイテムをコピー\n",
    "        for item in os.listdir(src):\n",
    "            s = os.path.join(src, item)\n",
    "            d = os.path.join(dst, item)\n",
    "            if os.path.isdir(s):\n",
    "                # サブフォルダの場合は再帰的にコピー\n",
    "                copy_folder(s, d)\n",
    "            else:\n",
    "                # ファイルの場合は直接コピー\n",
    "                shutil.copy2(s, d)\n",
    "\n",
    "        print(f\"{src} から {dst} へのコピーが完了しました。\")\n",
    "    except Exception as e:\n",
    "        print(f\"エラーが発生しました: {e}\")\n",
    "\n",
    "\n",
    "# 使用例\n",
    "source_folder = \"/path/to/source/folder\"\n",
    "destination_folder = \"/path/to/destination/folder\"\n",
    "\n",
    "copy_folder(source_folder, destination_folder)"
   ]
  },
  {
   "cell_type": "code",
   "execution_count": 4,
   "metadata": {},
   "outputs": [
    {
     "name": "stdout",
     "output_type": "stream",
     "text": [
      "c:\\Users\\tomon\\Documents\\Python\\bokeh\\TESTUSER\n"
     ]
    }
   ],
   "source": [
    "# このファイルのパスを確認\n",
    "print(os.getcwd())\n"
   ]
  },
  {
   "cell_type": "code",
   "execution_count": null,
   "metadata": {},
   "outputs": [],
   "source": []
  }
 ],
 "metadata": {
  "kernelspec": {
   "display_name": "venv",
   "language": "python",
   "name": "python3"
  },
  "language_info": {
   "codemirror_mode": {
    "name": "ipython",
    "version": 3
   },
   "file_extension": ".py",
   "mimetype": "text/x-python",
   "name": "python",
   "nbconvert_exporter": "python",
   "pygments_lexer": "ipython3",
   "version": "3.11.9"
  }
 },
 "nbformat": 4,
 "nbformat_minor": 2
}
