{
 "cells": [
  {
   "cell_type": "code",
   "execution_count": 60,
   "metadata": {},
   "outputs": [
    {
     "name": "stdout",
     "output_type": "stream",
     "text": [
      "The autoreload extension is already loaded. To reload it, use:\n",
      "  %reload_ext autoreload\n",
      "データ取得セクションが作成されました\n",
      "グラフ作成セクションが作成されました\n",
      "レイアウトが作成されました\n"
     ]
    },
    {
     "data": {
      "application/vnd.jupyter.widget-view+json": {
       "model_id": "a84bda7e84f648db8877a3d7e117a22c",
       "version_major": 2,
       "version_minor": 0
      },
      "text/plain": [
       "HTML(value='\\n        <style>\\n        .custom-widget {\\n            height: 32px !important;\\n        }\\n    …"
      ]
     },
     "metadata": {},
     "output_type": "display_data"
    },
    {
     "data": {
      "application/vnd.jupyter.widget-view+json": {
       "model_id": "3138141404d648b8abfe5dfd57654dc3",
       "version_major": 2,
       "version_minor": 0
      },
      "text/plain": [
       "VBox(children=(HBox(children=(FileUpload(value=(), description='Upload File:', layout=Layout(height='32px', wi…"
      ]
     },
     "metadata": {},
     "output_type": "display_data"
    },
    {
     "data": {
      "application/vnd.jupyter.widget-view+json": {
       "model_id": "d63c8586ce534587945c22a8dfd698c4",
       "version_major": 2,
       "version_minor": 0
      },
      "text/plain": [
       "Output(layout=Layout(border_bottom='1px solid black', border_left='1px solid black', border_right='1px solid b…"
      ]
     },
     "metadata": {},
     "output_type": "display_data"
    }
   ],
   "source": [
    "# カーネルを再起動しなくても、外部モジュールが再読み込みされるようにする\n",
    "%load_ext autoreload\n",
    "%autoreload 2\n",
    "\n",
    "from widgets import show_widgets\n",
    "\n",
    "# ウィジェットを表示し、ユーザーがファイルをアップロードできるようにする\n",
    "show_widgets()"
   ]
  },
  {
   "cell_type": "code",
   "execution_count": 61,
   "metadata": {},
   "outputs": [
    {
     "data": {
      "text/plain": [
       "['項目１', '項目２', '項目３', '項目４', '項目５', '項目７', '項目８']"
      ]
     },
     "execution_count": 61,
     "metadata": {},
     "output_type": "execute_result"
    }
   ],
   "source": [
    "import pandas as pd\n",
    "\n",
    "setting_df_dict = pd.read_excel(\n",
    "    r\"C:\\Users\\tomon\\Documents\\Python\\bokeh\\settings.xlsx\", sheet_name=None\n",
    ")\n",
    "setting_df_dict.keys()\n",
    "\n",
    "# 各シートのデータを取得\n",
    "# tagシートのデータを取得\n",
    "tags_setting_df = setting_df_dict[\"tag\"]\n",
    "# machineはtag_dfのheaderの項目名より後ろのリスト\n",
    "machine_list = tags_setting_df.columns[2:].tolist()\n",
    "\n",
    "# tagシートのデータを辞書型に変換\n",
    "tag_dict = tags_setting_df.set_index(\"項目名\").T.to_dict()\n",
    "\n",
    "# peroiodシートのデータを取得\n",
    "period_setting_df = setting_df_dict[\"period\"]\n",
    "period_setting = period_setting_df.iloc[0].to_dict()\n",
    "machine = period_setting[\"Machine\"]\n",
    "start_time = period_setting[\"開始日時\"]\n",
    "end_time = period_setting[\"終了日時\"]\n",
    "interval = period_setting[\"インターバル\"]\n",
    "\n",
    "# paramシートのデータを取得\n",
    "param_setting_df = setting_df_dict[\"param\"]\n",
    "\n",
    "\n",
    "# データ必要なパラメータ名のリストを取得\n",
    "target_param_list = param_setting_df[\"項目名\"].tolist()\n",
    "target_param_list"
   ]
  },
  {
   "cell_type": "code",
   "execution_count": 62,
   "metadata": {},
   "outputs": [
    {
     "data": {
      "text/plain": [
       "{'項目１': {'No.': 1, 'AAA': 'a1234', 'BBB': nan},\n",
       " '項目２': {'No.': 2, 'AAA': 'b1234', 'BBB': 'i1234'},\n",
       " '項目３': {'No.': 3, 'AAA': 'c1234', 'BBB': nan},\n",
       " '項目４': {'No.': 4, 'AAA': 'd1234', 'BBB': 'j1234'},\n",
       " '項目５': {'No.': 5, 'AAA': 'e1234', 'BBB': nan},\n",
       " '項目６': {'No.': 6, 'AAA': 'f1234', 'BBB': nan},\n",
       " '項目７': {'No.': 7, 'AAA': 'g1234', 'BBB': nan},\n",
       " '項目８': {'No.': 8, 'AAA': 'h1234', 'BBB': nan}}"
      ]
     },
     "execution_count": 62,
     "metadata": {},
     "output_type": "execute_result"
    }
   ],
   "source": [
    "tag_dict"
   ]
  },
  {
   "cell_type": "code",
   "execution_count": null,
   "metadata": {},
   "outputs": [],
   "source": []
  }
 ],
 "metadata": {
  "kernelspec": {
   "display_name": "venv",
   "language": "python",
   "name": "python3"
  },
  "language_info": {
   "codemirror_mode": {
    "name": "ipython",
    "version": 3
   },
   "file_extension": ".py",
   "mimetype": "text/x-python",
   "name": "python",
   "nbconvert_exporter": "python",
   "pygments_lexer": "ipython3",
   "version": "3.11.9"
  }
 },
 "nbformat": 4,
 "nbformat_minor": 2
}
