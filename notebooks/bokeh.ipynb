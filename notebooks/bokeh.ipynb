{
 "cells": [
  {
   "cell_type": "code",
   "execution_count": 3,
   "metadata": {},
   "outputs": [
    {
     "data": {
      "text/html": [
       "<div class=\"bk-root\">\n",
       "        <a href=\"https://bokeh.org\" target=\"_blank\" class=\"bk-logo bk-logo-small bk-logo-notebook\"></a>\n",
       "        <span id=\"1240\">Loading BokehJS ...</span>\n",
       "    </div>\n"
      ]
     },
     "metadata": {},
     "output_type": "display_data"
    },
    {
     "data": {
      "application/javascript": "(function(root) {\n  function now() {\n    return new Date();\n  }\n\n  const force = true;\n\n  if (typeof root._bokeh_onload_callbacks === \"undefined\" || force === true) {\n    root._bokeh_onload_callbacks = [];\n    root._bokeh_is_loading = undefined;\n  }\n\nconst JS_MIME_TYPE = 'application/javascript';\n  const HTML_MIME_TYPE = 'text/html';\n  const EXEC_MIME_TYPE = 'application/vnd.bokehjs_exec.v0+json';\n  const CLASS_NAME = 'output_bokeh rendered_html';\n\n  /**\n   * Render data to the DOM node\n   */\n  function render(props, node) {\n    const script = document.createElement(\"script\");\n    node.appendChild(script);\n  }\n\n  /**\n   * Handle when an output is cleared or removed\n   */\n  function handleClearOutput(event, handle) {\n    const cell = handle.cell;\n\n    const id = cell.output_area._bokeh_element_id;\n    const server_id = cell.output_area._bokeh_server_id;\n    // Clean up Bokeh references\n    if (id != null && id in Bokeh.index) {\n      Bokeh.index[id].model.document.clear();\n      delete Bokeh.index[id];\n    }\n\n    if (server_id !== undefined) {\n      // Clean up Bokeh references\n      const cmd_clean = \"from bokeh.io.state import curstate; print(curstate().uuid_to_server['\" + server_id + \"'].get_sessions()[0].document.roots[0]._id)\";\n      cell.notebook.kernel.execute(cmd_clean, {\n        iopub: {\n          output: function(msg) {\n            const id = msg.content.text.trim();\n            if (id in Bokeh.index) {\n              Bokeh.index[id].model.document.clear();\n              delete Bokeh.index[id];\n            }\n          }\n        }\n      });\n      // Destroy server and session\n      const cmd_destroy = \"import bokeh.io.notebook as ion; ion.destroy_server('\" + server_id + \"')\";\n      cell.notebook.kernel.execute(cmd_destroy);\n    }\n  }\n\n  /**\n   * Handle when a new output is added\n   */\n  function handleAddOutput(event, handle) {\n    const output_area = handle.output_area;\n    const output = handle.output;\n\n    // limit handleAddOutput to display_data with EXEC_MIME_TYPE content only\n    if ((output.output_type != \"display_data\") || (!Object.prototype.hasOwnProperty.call(output.data, EXEC_MIME_TYPE))) {\n      return\n    }\n\n    const toinsert = output_area.element.find(\".\" + CLASS_NAME.split(' ')[0]);\n\n    if (output.metadata[EXEC_MIME_TYPE][\"id\"] !== undefined) {\n      toinsert[toinsert.length - 1].firstChild.textContent = output.data[JS_MIME_TYPE];\n      // store reference to embed id on output_area\n      output_area._bokeh_element_id = output.metadata[EXEC_MIME_TYPE][\"id\"];\n    }\n    if (output.metadata[EXEC_MIME_TYPE][\"server_id\"] !== undefined) {\n      const bk_div = document.createElement(\"div\");\n      bk_div.innerHTML = output.data[HTML_MIME_TYPE];\n      const script_attrs = bk_div.children[0].attributes;\n      for (let i = 0; i < script_attrs.length; i++) {\n        toinsert[toinsert.length - 1].firstChild.setAttribute(script_attrs[i].name, script_attrs[i].value);\n        toinsert[toinsert.length - 1].firstChild.textContent = bk_div.children[0].textContent\n      }\n      // store reference to server id on output_area\n      output_area._bokeh_server_id = output.metadata[EXEC_MIME_TYPE][\"server_id\"];\n    }\n  }\n\n  function register_renderer(events, OutputArea) {\n\n    function append_mime(data, metadata, element) {\n      // create a DOM node to render to\n      const toinsert = this.create_output_subarea(\n        metadata,\n        CLASS_NAME,\n        EXEC_MIME_TYPE\n      );\n      this.keyboard_manager.register_events(toinsert);\n      // Render to node\n      const props = {data: data, metadata: metadata[EXEC_MIME_TYPE]};\n      render(props, toinsert[toinsert.length - 1]);\n      element.append(toinsert);\n      return toinsert\n    }\n\n    /* Handle when an output is cleared or removed */\n    events.on('clear_output.CodeCell', handleClearOutput);\n    events.on('delete.Cell', handleClearOutput);\n\n    /* Handle when a new output is added */\n    events.on('output_added.OutputArea', handleAddOutput);\n\n    /**\n     * Register the mime type and append_mime function with output_area\n     */\n    OutputArea.prototype.register_mime_type(EXEC_MIME_TYPE, append_mime, {\n      /* Is output safe? */\n      safe: true,\n      /* Index of renderer in `output_area.display_order` */\n      index: 0\n    });\n  }\n\n  // register the mime type if in Jupyter Notebook environment and previously unregistered\n  if (root.Jupyter !== undefined) {\n    const events = require('base/js/events');\n    const OutputArea = require('notebook/js/outputarea').OutputArea;\n\n    if (OutputArea.prototype.mime_types().indexOf(EXEC_MIME_TYPE) == -1) {\n      register_renderer(events, OutputArea);\n    }\n  }\n  if (typeof (root._bokeh_timeout) === \"undefined\" || force === true) {\n    root._bokeh_timeout = Date.now() + 5000;\n    root._bokeh_failed_load = false;\n  }\n\n  const NB_LOAD_WARNING = {'data': {'text/html':\n     \"<div style='background-color: #fdd'>\\n\"+\n     \"<p>\\n\"+\n     \"BokehJS does not appear to have successfully loaded. If loading BokehJS from CDN, this \\n\"+\n     \"may be due to a slow or bad network connection. Possible fixes:\\n\"+\n     \"</p>\\n\"+\n     \"<ul>\\n\"+\n     \"<li>re-rerun `output_notebook()` to attempt to load from CDN again, or</li>\\n\"+\n     \"<li>use INLINE resources instead, as so:</li>\\n\"+\n     \"</ul>\\n\"+\n     \"<code>\\n\"+\n     \"from bokeh.resources import INLINE\\n\"+\n     \"output_notebook(resources=INLINE)\\n\"+\n     \"</code>\\n\"+\n     \"</div>\"}};\n\n  function display_loaded() {\n    const el = document.getElementById(\"1240\");\n    if (el != null) {\n      el.textContent = \"BokehJS is loading...\";\n    }\n    if (root.Bokeh !== undefined) {\n      if (el != null) {\n        el.textContent = \"BokehJS \" + root.Bokeh.version + \" successfully loaded.\";\n      }\n    } else if (Date.now() < root._bokeh_timeout) {\n      setTimeout(display_loaded, 100)\n    }\n  }\n\n  function run_callbacks() {\n    try {\n      root._bokeh_onload_callbacks.forEach(function(callback) {\n        if (callback != null)\n          callback();\n      });\n    } finally {\n      delete root._bokeh_onload_callbacks\n    }\n    console.debug(\"Bokeh: all callbacks have finished\");\n  }\n\n  function load_libs(css_urls, js_urls, callback) {\n    if (css_urls == null) css_urls = [];\n    if (js_urls == null) js_urls = [];\n\n    root._bokeh_onload_callbacks.push(callback);\n    if (root._bokeh_is_loading > 0) {\n      console.debug(\"Bokeh: BokehJS is being loaded, scheduling callback at\", now());\n      return null;\n    }\n    if (js_urls == null || js_urls.length === 0) {\n      run_callbacks();\n      return null;\n    }\n    console.debug(\"Bokeh: BokehJS not loaded, scheduling load and callback at\", now());\n    root._bokeh_is_loading = css_urls.length + js_urls.length;\n\n    function on_load() {\n      root._bokeh_is_loading--;\n      if (root._bokeh_is_loading === 0) {\n        console.debug(\"Bokeh: all BokehJS libraries/stylesheets loaded\");\n        run_callbacks()\n      }\n    }\n\n    function on_error(url) {\n      console.error(\"failed to load \" + url);\n    }\n\n    for (let i = 0; i < css_urls.length; i++) {\n      const url = css_urls[i];\n      const element = document.createElement(\"link\");\n      element.onload = on_load;\n      element.onerror = on_error.bind(null, url);\n      element.rel = \"stylesheet\";\n      element.type = \"text/css\";\n      element.href = url;\n      console.debug(\"Bokeh: injecting link tag for BokehJS stylesheet: \", url);\n      document.body.appendChild(element);\n    }\n\n    for (let i = 0; i < js_urls.length; i++) {\n      const url = js_urls[i];\n      const element = document.createElement('script');\n      element.onload = on_load;\n      element.onerror = on_error.bind(null, url);\n      element.async = false;\n      element.src = url;\n      console.debug(\"Bokeh: injecting script tag for BokehJS library: \", url);\n      document.head.appendChild(element);\n    }\n  };\n\n  function inject_raw_css(css) {\n    const element = document.createElement(\"style\");\n    element.appendChild(document.createTextNode(css));\n    document.body.appendChild(element);\n  }\n\n  const js_urls = [\"https://cdn.bokeh.org/bokeh/release/bokeh-2.4.3.min.js\", \"https://cdn.bokeh.org/bokeh/release/bokeh-gl-2.4.3.min.js\", \"https://cdn.bokeh.org/bokeh/release/bokeh-widgets-2.4.3.min.js\", \"https://cdn.bokeh.org/bokeh/release/bokeh-tables-2.4.3.min.js\", \"https://cdn.bokeh.org/bokeh/release/bokeh-mathjax-2.4.3.min.js\"];\n  const css_urls = [];\n\n  const inline_js = [    function(Bokeh) {\n      Bokeh.set_log_level(\"info\");\n    },\nfunction(Bokeh) {\n    }\n  ];\n\n  function run_inline_js() {\n    if (root.Bokeh !== undefined || force === true) {\n          for (let i = 0; i < inline_js.length; i++) {\n      inline_js[i].call(root, root.Bokeh);\n    }\nif (force === true) {\n        display_loaded();\n      }} else if (Date.now() < root._bokeh_timeout) {\n      setTimeout(run_inline_js, 100);\n    } else if (!root._bokeh_failed_load) {\n      console.log(\"Bokeh: BokehJS failed to load within specified timeout.\");\n      root._bokeh_failed_load = true;\n    } else if (force !== true) {\n      const cell = $(document.getElementById(\"1240\")).parents('.cell').data().cell;\n      cell.output_area.append_execute_result(NB_LOAD_WARNING)\n    }\n  }\n\n  if (root._bokeh_is_loading === 0) {\n    console.debug(\"Bokeh: BokehJS loaded, going straight to plotting\");\n    run_inline_js();\n  } else {\n    load_libs(css_urls, js_urls, function() {\n      console.debug(\"Bokeh: BokehJS plotting callback run at\", now());\n      run_inline_js();\n    });\n  }\n}(window));",
      "application/vnd.bokehjs_load.v0+json": ""
     },
     "metadata": {},
     "output_type": "display_data"
    }
   ],
   "source": [
    "from bokeh.io import output_notebook\n",
    "from bokeh.layouts import row\n",
    "from bokeh.plotting import show\n",
    "\n",
    "from src.libs.chart import (\n",
    "    BarChart,\n",
    "    BarChartConfig,\n",
    "    ChartData,\n",
    "    PieChart,\n",
    "    PieChartConfig,\n",
    ")\n",
    "\n",
    "output_notebook()\n"
   ]
  },
  {
   "cell_type": "code",
   "execution_count": 4,
   "metadata": {},
   "outputs": [
    {
     "data": {
      "text/html": [
       "\n",
       "  <div class=\"bk-root\" id=\"bff7e352-052f-4b1a-baa5-53e594091d8b\" data-root-id=\"1345\"></div>\n"
      ]
     },
     "metadata": {},
     "output_type": "display_data"
    },
    {
     "data": {
      "application/javascript": "(function(root) {\n  function embed_document(root) {\n  const docs_json = {\"521c4dce-b664-43dc-ade7-0cc8d56be91b\":{\"defs\":[],\"roots\":{\"references\":[{\"attributes\":{\"children\":[{\"id\":\"1242\"},{\"id\":\"1306\"}]},\"id\":\"1345\",\"type\":\"Row\"},{\"attributes\":{\"fill_alpha\":{\"value\":0.1},\"fill_color\":{\"field\":\"colors\"},\"hatch_alpha\":{\"value\":0.1},\"hatch_color\":{\"field\":\"colors\"},\"line_alpha\":{\"value\":0.1},\"line_color\":{\"field\":\"colors\"},\"top\":{\"field\":\"amounts\"},\"width\":{\"value\":0.9},\"x\":{\"field\":\"labels\"}},\"id\":\"1341\",\"type\":\"VBar\"},{\"attributes\":{},\"id\":\"1385\",\"type\":\"Selection\"},{\"attributes\":{\"label\":{\"field\":\"labels\"},\"renderers\":[{\"id\":\"1279\"}]},\"id\":\"1292\",\"type\":\"LegendItem\"},{\"attributes\":{\"fill_alpha\":{\"value\":0.2},\"fill_color\":{\"field\":\"colors\"},\"hatch_alpha\":{\"value\":0.2},\"hatch_color\":{\"field\":\"colors\"},\"line_alpha\":{\"value\":0.2},\"line_color\":{\"field\":\"colors\"},\"top\":{\"field\":\"amounts\"},\"width\":{\"value\":0.9},\"x\":{\"field\":\"labels\"}},\"id\":\"1342\",\"type\":\"VBar\"},{\"attributes\":{\"end_angle\":{\"field\":\"end_angle\"},\"fill_alpha\":{\"value\":0.1},\"fill_color\":{\"field\":\"colors\"},\"hatch_alpha\":{\"value\":0.1},\"hatch_color\":{\"field\":\"colors\"},\"line_alpha\":{\"value\":0.1},\"line_color\":{\"field\":\"colors\"},\"radius\":{\"value\":1},\"start_angle\":{\"field\":\"start_angle\"},\"x\":{\"value\":0},\"y\":{\"value\":0}},\"id\":\"1277\",\"type\":\"Wedge\"},{\"attributes\":{},\"id\":\"1387\",\"type\":\"UnionRenderers\"},{\"attributes\":{},\"id\":\"1249\",\"type\":\"LinearScale\"},{\"attributes\":{\"tools\":[{\"id\":\"1261\"},{\"id\":\"1262\"},{\"id\":\"1263\"},{\"id\":\"1264\"},{\"id\":\"1265\"},{\"id\":\"1266\"}]},\"id\":\"1268\",\"type\":\"Toolbar\"},{\"attributes\":{\"start\":0},\"id\":\"1311\",\"type\":\"DataRange1d\"},{\"attributes\":{\"coordinates\":null,\"formatter\":{\"id\":\"1283\"},\"group\":null,\"major_label_policy\":{\"id\":\"1284\"},\"ticker\":{\"id\":\"1258\"},\"visible\":false},\"id\":\"1257\",\"type\":\"LinearAxis\"},{\"attributes\":{},\"id\":\"1388\",\"type\":\"Selection\"},{\"attributes\":{\"coordinates\":null,\"data_source\":{\"id\":\"1338\"},\"glyph\":{\"id\":\"1340\"},\"group\":null,\"hover_glyph\":null,\"muted_glyph\":{\"id\":\"1342\"},\"nonselection_glyph\":{\"id\":\"1341\"},\"view\":{\"id\":\"1344\"}},\"id\":\"1343\",\"type\":\"GlyphRenderer\"},{\"attributes\":{\"below\":[{\"id\":\"1253\"}],\"center\":[{\"id\":\"1256\"},{\"id\":\"1260\"},{\"id\":\"1291\"}],\"height\":500,\"left\":[{\"id\":\"1257\"}],\"renderers\":[{\"id\":\"1279\"},{\"id\":\"1297\"},{\"id\":\"1303\"}],\"title\":{\"id\":\"1243\"},\"toolbar\":{\"id\":\"1268\"},\"toolbar_location\":\"above\",\"width\":500,\"x_range\":{\"id\":\"1245\"},\"x_scale\":{\"id\":\"1249\"},\"y_range\":{\"id\":\"1247\"},\"y_scale\":{\"id\":\"1251\"}},\"id\":\"1242\",\"subtype\":\"Figure\",\"type\":\"Plot\"},{\"attributes\":{\"coordinates\":null,\"formatter\":{\"id\":\"1380\"},\"group\":null,\"major_label_policy\":{\"id\":\"1381\"},\"ticker\":{\"id\":\"1318\"}},\"id\":\"1317\",\"type\":\"CategoricalAxis\"},{\"attributes\":{\"source\":{\"id\":\"1338\"}},\"id\":\"1344\",\"type\":\"CDSView\"},{\"attributes\":{\"axis\":{\"id\":\"1253\"},\"coordinates\":null,\"group\":null,\"ticker\":null,\"visible\":false},\"id\":\"1256\",\"type\":\"Grid\"},{\"attributes\":{},\"id\":\"1254\",\"type\":\"BasicTicker\"},{\"attributes\":{},\"id\":\"1313\",\"type\":\"CategoricalScale\"},{\"attributes\":{\"axis\":{\"id\":\"1257\"},\"coordinates\":null,\"dimension\":1,\"group\":null,\"ticker\":null,\"visible\":false},\"id\":\"1260\",\"type\":\"Grid\"},{\"attributes\":{},\"id\":\"1329\",\"type\":\"HelpTool\"},{\"attributes\":{},\"id\":\"1288\",\"type\":\"UnionRenderers\"},{\"attributes\":{},\"id\":\"1265\",\"type\":\"ResetTool\"},{\"attributes\":{\"text\":{\"field\":\"display_text\"},\"text_align\":{\"value\":\"center\"},\"text_baseline\":{\"value\":\"middle\"},\"text_color\":{\"value\":\"black\"},\"text_font_size\":{\"value\":\"10pt\"},\"x\":{\"field\":\"label_x\"},\"y\":{\"field\":\"label_y\"}},\"id\":\"1294\",\"type\":\"Text\"},{\"attributes\":{},\"id\":\"1258\",\"type\":\"BasicTicker\"},{\"attributes\":{},\"id\":\"1328\",\"type\":\"ResetTool\"},{\"attributes\":{\"axis\":{\"id\":\"1317\"},\"coordinates\":null,\"grid_line_color\":null,\"group\":null,\"ticker\":null},\"id\":\"1319\",\"type\":\"Grid\"},{\"attributes\":{},\"id\":\"1377\",\"type\":\"BasicTickFormatter\"},{\"attributes\":{\"bottom_units\":\"screen\",\"coordinates\":null,\"fill_alpha\":0.5,\"fill_color\":\"lightgrey\",\"group\":null,\"left_units\":\"screen\",\"level\":\"overlay\",\"line_alpha\":1.0,\"line_color\":\"black\",\"line_dash\":[4,4],\"line_width\":2,\"right_units\":\"screen\",\"syncable\":false,\"top_units\":\"screen\"},\"id\":\"1330\",\"type\":\"BoxAnnotation\"},{\"attributes\":{},\"id\":\"1251\",\"type\":\"LinearScale\"},{\"attributes\":{\"coordinates\":null,\"formatter\":{\"id\":\"1286\"},\"group\":null,\"major_label_policy\":{\"id\":\"1287\"},\"ticker\":{\"id\":\"1254\"},\"visible\":false},\"id\":\"1253\",\"type\":\"LinearAxis\"},{\"attributes\":{},\"id\":\"1315\",\"type\":\"LinearScale\"},{\"attributes\":{\"text\":{\"field\":\"display_text\"},\"text_align\":{\"value\":\"center\"},\"text_alpha\":{\"value\":0.2},\"text_baseline\":{\"value\":\"middle\"},\"text_color\":{\"value\":\"black\"},\"text_font_size\":{\"value\":\"10pt\"},\"x\":{\"field\":\"label_x\"},\"y\":{\"field\":\"label_y\"}},\"id\":\"1296\",\"type\":\"Text\"},{\"attributes\":{},\"id\":\"1318\",\"type\":\"CategoricalTicker\"},{\"attributes\":{\"coordinates\":null,\"data_source\":{\"id\":\"1241\"},\"glyph\":{\"id\":\"1294\"},\"group\":null,\"hover_glyph\":null,\"muted_glyph\":{\"id\":\"1296\"},\"nonselection_glyph\":{\"id\":\"1295\"},\"view\":{\"id\":\"1298\"}},\"id\":\"1297\",\"type\":\"GlyphRenderer\"},{\"attributes\":{\"text_baseline\":{\"value\":\"top\"},\"text_color\":{\"value\":\"black\"},\"text_font_size\":{\"value\":\"12pt\"},\"x\":{\"value\":-1.35},\"y\":{\"value\":1.35}},\"id\":\"1300\",\"type\":\"Text\"},{\"attributes\":{},\"id\":\"1264\",\"type\":\"SaveTool\"},{\"attributes\":{\"end_angle\":{\"field\":\"end_angle\"},\"fill_alpha\":{\"value\":0.2},\"fill_color\":{\"field\":\"colors\"},\"hatch_alpha\":{\"value\":0.2},\"hatch_color\":{\"field\":\"colors\"},\"line_alpha\":{\"value\":0.2},\"line_color\":{\"field\":\"colors\"},\"radius\":{\"value\":1},\"start_angle\":{\"field\":\"start_angle\"},\"x\":{\"value\":0},\"y\":{\"value\":0}},\"id\":\"1278\",\"type\":\"Wedge\"},{\"attributes\":{\"coordinates\":null,\"formatter\":{\"id\":\"1377\"},\"group\":null,\"major_label_policy\":{\"id\":\"1378\"},\"ticker\":{\"id\":\"1321\"}},\"id\":\"1320\",\"type\":\"LinearAxis\"},{\"attributes\":{},\"id\":\"1321\",\"type\":\"BasicTicker\"},{\"attributes\":{\"overlay\":{\"id\":\"1267\"}},\"id\":\"1263\",\"type\":\"BoxZoomTool\"},{\"attributes\":{\"data\":{\"text\":[\"Total: 657\"]},\"selected\":{\"id\":\"1385\"},\"selection_policy\":{\"id\":\"1384\"}},\"id\":\"1299\",\"type\":\"ColumnDataSource\"},{\"attributes\":{\"axis\":{\"id\":\"1320\"},\"coordinates\":null,\"dimension\":1,\"group\":null,\"ticker\":null},\"id\":\"1323\",\"type\":\"Grid\"},{\"attributes\":{\"data\":{\"amounts\":[221,212,152,72],\"colors\":[\"red\",\"darkorange\",\"darkgreen\",\"hotpink\"],\"labels\":[\"Pepperoni\",\"Cheese\",\"Mixed Veggies\",\"Bacon\"]},\"selected\":{\"id\":\"1388\"},\"selection_policy\":{\"id\":\"1387\"}},\"id\":\"1338\",\"type\":\"ColumnDataSource\"},{\"attributes\":{\"end\":1.5,\"start\":-1.5},\"id\":\"1245\",\"type\":\"Range1d\"},{\"attributes\":{},\"id\":\"1327\",\"type\":\"SaveTool\"},{\"attributes\":{\"end_angle\":{\"field\":\"end_angle\"},\"fill_color\":{\"field\":\"colors\"},\"hatch_color\":{\"field\":\"colors\"},\"line_color\":{\"field\":\"colors\"},\"radius\":{\"value\":1},\"start_angle\":{\"field\":\"start_angle\"},\"x\":{\"value\":0},\"y\":{\"value\":0}},\"id\":\"1276\",\"type\":\"Wedge\"},{\"attributes\":{\"source\":{\"id\":\"1241\"}},\"id\":\"1298\",\"type\":\"CDSView\"},{\"attributes\":{},\"id\":\"1262\",\"type\":\"WheelZoomTool\"},{\"attributes\":{\"coordinates\":null,\"group\":null,\"text\":\"Pizza Orders - Pie Chart\"},\"id\":\"1243\",\"type\":\"Title\"},{\"attributes\":{},\"id\":\"1261\",\"type\":\"PanTool\"},{\"attributes\":{\"coordinates\":null,\"data_source\":{\"id\":\"1241\"},\"glyph\":{\"id\":\"1276\"},\"group\":null,\"hover_glyph\":null,\"muted_glyph\":{\"id\":\"1278\"},\"nonselection_glyph\":{\"id\":\"1277\"},\"view\":{\"id\":\"1280\"}},\"id\":\"1279\",\"type\":\"GlyphRenderer\"},{\"attributes\":{\"tools\":[{\"id\":\"1324\"},{\"id\":\"1325\"},{\"id\":\"1326\"},{\"id\":\"1327\"},{\"id\":\"1328\"},{\"id\":\"1329\"}]},\"id\":\"1331\",\"type\":\"Toolbar\"},{\"attributes\":{\"text_alpha\":{\"value\":0.1},\"text_baseline\":{\"value\":\"top\"},\"text_color\":{\"value\":\"black\"},\"text_font_size\":{\"value\":\"12pt\"},\"x\":{\"value\":-1.35},\"y\":{\"value\":1.35}},\"id\":\"1301\",\"type\":\"Text\"},{\"attributes\":{\"bottom_units\":\"screen\",\"coordinates\":null,\"fill_alpha\":0.5,\"fill_color\":\"lightgrey\",\"group\":null,\"left_units\":\"screen\",\"level\":\"overlay\",\"line_alpha\":1.0,\"line_color\":\"black\",\"line_dash\":[4,4],\"line_width\":2,\"right_units\":\"screen\",\"syncable\":false,\"top_units\":\"screen\"},\"id\":\"1267\",\"type\":\"BoxAnnotation\"},{\"attributes\":{},\"id\":\"1324\",\"type\":\"PanTool\"},{\"attributes\":{\"text_alpha\":{\"value\":0.2},\"text_baseline\":{\"value\":\"top\"},\"text_color\":{\"value\":\"black\"},\"text_font_size\":{\"value\":\"12pt\"},\"x\":{\"value\":-1.35},\"y\":{\"value\":1.35}},\"id\":\"1302\",\"type\":\"Text\"},{\"attributes\":{},\"id\":\"1325\",\"type\":\"WheelZoomTool\"},{\"attributes\":{},\"id\":\"1284\",\"type\":\"AllLabels\"},{\"attributes\":{\"coordinates\":null,\"group\":null,\"items\":[{\"id\":\"1292\"}]},\"id\":\"1291\",\"type\":\"Legend\"},{\"attributes\":{\"source\":{\"id\":\"1241\"}},\"id\":\"1280\",\"type\":\"CDSView\"},{\"attributes\":{\"coordinates\":null,\"data_source\":{\"id\":\"1299\"},\"glyph\":{\"id\":\"1300\"},\"group\":null,\"hover_glyph\":null,\"muted_glyph\":{\"id\":\"1302\"},\"nonselection_glyph\":{\"id\":\"1301\"},\"view\":{\"id\":\"1304\"}},\"id\":\"1303\",\"type\":\"GlyphRenderer\"},{\"attributes\":{\"overlay\":{\"id\":\"1330\"}},\"id\":\"1326\",\"type\":\"BoxZoomTool\"},{\"attributes\":{},\"id\":\"1380\",\"type\":\"CategoricalTickFormatter\"},{\"attributes\":{},\"id\":\"1378\",\"type\":\"AllLabels\"},{\"attributes\":{},\"id\":\"1289\",\"type\":\"Selection\"},{\"attributes\":{},\"id\":\"1266\",\"type\":\"HelpTool\"},{\"attributes\":{},\"id\":\"1283\",\"type\":\"BasicTickFormatter\"},{\"attributes\":{},\"id\":\"1286\",\"type\":\"BasicTickFormatter\"},{\"attributes\":{\"fill_color\":{\"field\":\"colors\"},\"hatch_color\":{\"field\":\"colors\"},\"line_color\":{\"field\":\"colors\"},\"top\":{\"field\":\"amounts\"},\"width\":{\"value\":0.9},\"x\":{\"field\":\"labels\"}},\"id\":\"1340\",\"type\":\"VBar\"},{\"attributes\":{\"below\":[{\"id\":\"1317\"}],\"center\":[{\"id\":\"1319\"},{\"id\":\"1323\"}],\"height\":500,\"left\":[{\"id\":\"1320\"}],\"renderers\":[{\"id\":\"1343\"}],\"title\":{\"id\":\"1307\"},\"toolbar\":{\"id\":\"1331\"},\"toolbar_location\":\"above\",\"width\":500,\"x_range\":{\"id\":\"1309\"},\"x_scale\":{\"id\":\"1313\"},\"y_range\":{\"id\":\"1311\"},\"y_scale\":{\"id\":\"1315\"}},\"id\":\"1306\",\"subtype\":\"Figure\",\"type\":\"Plot\"},{\"attributes\":{\"text\":{\"field\":\"display_text\"},\"text_align\":{\"value\":\"center\"},\"text_alpha\":{\"value\":0.1},\"text_baseline\":{\"value\":\"middle\"},\"text_color\":{\"value\":\"black\"},\"text_font_size\":{\"value\":\"10pt\"},\"x\":{\"field\":\"label_x\"},\"y\":{\"field\":\"label_y\"}},\"id\":\"1295\",\"type\":\"Text\"},{\"attributes\":{\"source\":{\"id\":\"1299\"}},\"id\":\"1304\",\"type\":\"CDSView\"},{\"attributes\":{},\"id\":\"1381\",\"type\":\"AllLabels\"},{\"attributes\":{},\"id\":\"1287\",\"type\":\"AllLabels\"},{\"attributes\":{\"coordinates\":null,\"group\":null,\"text\":\"Pizza Orders - Bar Chart\"},\"id\":\"1307\",\"type\":\"Title\"},{\"attributes\":{\"factors\":[\"Pepperoni\",\"Cheese\",\"Mixed Veggies\",\"Bacon\"]},\"id\":\"1309\",\"type\":\"FactorRange\"},{\"attributes\":{\"data\":{\"amounts\":[221,212,152,72],\"colors\":[\"red\",\"darkorange\",\"darkgreen\",\"hotpink\"],\"display_text\":[\"221 (33.6%)\",\"212 (32.3%)\",\"152 (23.1%)\",\"72 (11.0%)\"],\"end_angle\":[3.6843183251003584,5.71176929180062,7.1654133811328835,7.853981633974482],\"label_x\":[-1.131997687644833,-0.01864808391968659,1.2843333964403967,0.4387797694723487],\"label_y\":[0.6392035944570018,-1.299866242721198,0.20121562262377918,1.2237125127667006],\"labels\":[\"Pepperoni\",\"Cheese\",\"Mixed Veggies\",\"Bacon\"],\"percentages\":[33.63774733637747,32.26788432267884,23.13546423135464,10.95890410958904],\"start_angle\":[1.5707963267948966,3.6843183251003584,5.71176929180062,7.1654133811328835]},\"selected\":{\"id\":\"1289\"},\"selection_policy\":{\"id\":\"1288\"}},\"id\":\"1241\",\"type\":\"ColumnDataSource\"},{\"attributes\":{},\"id\":\"1384\",\"type\":\"UnionRenderers\"},{\"attributes\":{\"end\":1.5,\"start\":-1.5},\"id\":\"1247\",\"type\":\"Range1d\"}],\"root_ids\":[\"1345\"]},\"title\":\"Bokeh Application\",\"version\":\"2.4.3\"}};\n  const render_items = [{\"docid\":\"521c4dce-b664-43dc-ade7-0cc8d56be91b\",\"root_ids\":[\"1345\"],\"roots\":{\"1345\":\"bff7e352-052f-4b1a-baa5-53e594091d8b\"}}];\n  root.Bokeh.embed.embed_items_notebook(docs_json, render_items);\n  }\n  if (root.Bokeh !== undefined) {\n    embed_document(root);\n  } else {\n    let attempts = 0;\n    const timer = setInterval(function(root) {\n      if (root.Bokeh !== undefined) {\n        clearInterval(timer);\n        embed_document(root);\n      } else {\n        attempts++;\n        if (attempts > 100) {\n          clearInterval(timer);\n          console.log(\"Bokeh: ERROR: Unable to run BokehJS code because BokehJS library is missing\");\n        }\n      }\n    }, 10, root)\n  }\n})(window);",
      "application/vnd.bokehjs_exec.v0+json": ""
     },
     "metadata": {
      "application/vnd.bokehjs_exec.v0+json": {
       "id": "1345"
      }
     },
     "output_type": "display_data"
    }
   ],
   "source": [
    "# 円グラフ設定\n",
    "pie_config = PieChartConfig(\n",
    "    title=\"Pizza Orders - Pie Chart\",\n",
    "    label_position_adjust=1.3,\n",
    ")\n",
    "\n",
    "# 棒グラフ設定\n",
    "bar_config = BarChartConfig(\n",
    "    title=\"Pizza Orders - Bar Chart\",\n",
    ")\n",
    "\n",
    "# データ\n",
    "\n",
    "data = ChartData(\n",
    "    x=[\"Pepperoni\", \"Cheese\", \"Mixed Veggies\", \"Bacon\"],\n",
    "    y=[221, 212, 152, 72],\n",
    "    colors=[\"red\", \"darkorange\", \"darkgreen\", \"hotpink\"],\n",
    ")\n",
    "\n",
    "\n",
    "# 円グラフ\n",
    "pie_chart = PieChart(data, pie_config)\n",
    "pie_figure = pie_chart.render()\n",
    "\n",
    "# 棒グラフ\n",
    "bar_chart = BarChart(data, bar_config)\n",
    "bar_figure = bar_chart.render()\n",
    "\n",
    "# 並べて表示\n",
    "show(row(pie_figure, bar_figure))"
   ]
  },
  {
   "cell_type": "code",
   "execution_count": 43,
   "metadata": {},
   "outputs": [
    {
     "data": {
      "text/html": [
       "<div>\n",
       "<style scoped>\n",
       "    .dataframe tbody tr th:only-of-type {\n",
       "        vertical-align: middle;\n",
       "    }\n",
       "\n",
       "    .dataframe tbody tr th {\n",
       "        vertical-align: top;\n",
       "    }\n",
       "\n",
       "    .dataframe thead th {\n",
       "        text-align: right;\n",
       "    }\n",
       "</style>\n",
       "<table border=\"1\" class=\"dataframe\">\n",
       "  <thead>\n",
       "    <tr style=\"text-align: right;\">\n",
       "      <th></th>\n",
       "      <th>x</th>\n",
       "      <th>y</th>\n",
       "      <th>colors</th>\n",
       "      <th>angle</th>\n",
       "      <th>start_angle</th>\n",
       "      <th>end_angle</th>\n",
       "      <th>middle_angle</th>\n",
       "      <th>label_x</th>\n",
       "      <th>label_y</th>\n",
       "      <th>label_percentage</th>\n",
       "      <th>label_amount</th>\n",
       "    </tr>\n",
       "  </thead>\n",
       "  <tbody>\n",
       "    <tr>\n",
       "      <th>0</th>\n",
       "      <td>Pepperoni</td>\n",
       "      <td>221</td>\n",
       "      <td>red</td>\n",
       "      <td>2.113522</td>\n",
       "      <td>1.570796</td>\n",
       "      <td>3.684318</td>\n",
       "      <td>2.627557</td>\n",
       "      <td>-1.131998</td>\n",
       "      <td>0.639204</td>\n",
       "      <td>33.64%</td>\n",
       "      <td>221pcs</td>\n",
       "    </tr>\n",
       "    <tr>\n",
       "      <th>1</th>\n",
       "      <td>Cheese</td>\n",
       "      <td>212</td>\n",
       "      <td>darkorange</td>\n",
       "      <td>2.027451</td>\n",
       "      <td>3.684318</td>\n",
       "      <td>5.711769</td>\n",
       "      <td>4.698044</td>\n",
       "      <td>-0.018648</td>\n",
       "      <td>-1.299866</td>\n",
       "      <td>32.27%</td>\n",
       "      <td>212pcs</td>\n",
       "    </tr>\n",
       "    <tr>\n",
       "      <th>2</th>\n",
       "      <td>Mixed Veggies</td>\n",
       "      <td>152</td>\n",
       "      <td>darkgreen</td>\n",
       "      <td>1.453644</td>\n",
       "      <td>5.711769</td>\n",
       "      <td>7.165413</td>\n",
       "      <td>6.438591</td>\n",
       "      <td>1.284333</td>\n",
       "      <td>0.201216</td>\n",
       "      <td>23.14%</td>\n",
       "      <td>152pcs</td>\n",
       "    </tr>\n",
       "    <tr>\n",
       "      <th>3</th>\n",
       "      <td>Bacon</td>\n",
       "      <td>72</td>\n",
       "      <td>hotpink</td>\n",
       "      <td>0.688568</td>\n",
       "      <td>7.165413</td>\n",
       "      <td>7.853982</td>\n",
       "      <td>7.509698</td>\n",
       "      <td>0.438780</td>\n",
       "      <td>1.223713</td>\n",
       "      <td>10.96%</td>\n",
       "      <td>72pcs</td>\n",
       "    </tr>\n",
       "  </tbody>\n",
       "</table>\n",
       "</div>"
      ],
      "text/plain": [
       "               x    y      colors     angle  start_angle  end_angle  \\\n",
       "0      Pepperoni  221         red  2.113522     1.570796   3.684318   \n",
       "1         Cheese  212  darkorange  2.027451     3.684318   5.711769   \n",
       "2  Mixed Veggies  152   darkgreen  1.453644     5.711769   7.165413   \n",
       "3          Bacon   72     hotpink  0.688568     7.165413   7.853982   \n",
       "\n",
       "   middle_angle   label_x   label_y label_percentage label_amount  \n",
       "0      2.627557 -1.131998  0.639204           33.64%       221pcs  \n",
       "1      4.698044 -0.018648 -1.299866           32.27%       212pcs  \n",
       "2      6.438591  1.284333  0.201216           23.14%       152pcs  \n",
       "3      7.509698  0.438780  1.223713           10.96%        72pcs  "
      ]
     },
     "execution_count": 43,
     "metadata": {},
     "output_type": "execute_result"
    }
   ],
   "source": [
    "import math\n",
    "\n",
    "import pandas as pd\n",
    "\n",
    "df = pd.DataFrame(data.model_dump())\n",
    "\n",
    "label_adjust_num = 1.3\n",
    "total = df[\"y\"].sum()\n",
    "\n",
    "df = (\n",
    "    df.assign(\n",
    "        angle=lambda x: x[\"y\"] / x[\"y\"].sum() * 2 * math.pi,\n",
    "        start_angle=lambda x: x[\"angle\"].shift(1).fillna(0).cumsum() + math.pi / 2,\n",
    "        end_angle=lambda x: x[\"start_angle\"] + x[\"angle\"],\n",
    "    )\n",
    "    .assign(\n",
    "        middle_angle=lambda x: (x[\"start_angle\"] + x[\"end_angle\"]) / 2,\n",
    "        label_x=lambda x: x[\"middle_angle\"].apply(lambda angle: math.cos(angle) * label_adjust_num),\n",
    "        label_y=lambda x: x[\"middle_angle\"].apply(lambda angle: math.sin(angle) * label_adjust_num),\n",
    "    )\n",
    "    .assign(\n",
    "        label_percentage=lambda x: x[\"y\"] / x[\"y\"].sum() * 100,\n",
    "    )\n",
    "    .pipe(lambda x: x.assign(label_amount=lambda x: x[\"y\"].apply(lambda y: f\"{y:.0f}pcs\")))\n",
    "    .pipe(\n",
    "        lambda x: x.assign(\n",
    "            label_percentage=lambda x: x[\"label_percentage\"].apply(lambda y: f\"{y:.2f}%\")\n",
    "        )\n",
    "    )\n",
    ")\n",
    "df\n"
   ]
  },
  {
   "cell_type": "code",
   "execution_count": 49,
   "metadata": {},
   "outputs": [
    {
     "ename": "AttributeError",
     "evalue": "'Expr' object has no attribute 'cumsum'",
     "output_type": "error",
     "traceback": [
      "\u001b[1;31m---------------------------------------------------------------------------\u001b[0m",
      "\u001b[1;31mAttributeError\u001b[0m                            Traceback (most recent call last)",
      "Cell \u001b[1;32mIn[49], line 11\u001b[0m\n\u001b[0;32m      4\u001b[0m \u001b[38;5;28;01mimport\u001b[39;00m \u001b[38;5;21;01mpolars\u001b[39;00m \u001b[38;5;28;01mas\u001b[39;00m \u001b[38;5;21;01mpl\u001b[39;00m\n\u001b[0;32m      6\u001b[0m df_polars \u001b[38;5;241m=\u001b[39m pl\u001b[38;5;241m.\u001b[39mDataFrame(data\u001b[38;5;241m.\u001b[39mmodel_dump())\n\u001b[0;32m      8\u001b[0m df_polars \u001b[38;5;241m=\u001b[39m df_polars\u001b[38;5;241m.\u001b[39mwith_columns(\n\u001b[0;32m      9\u001b[0m     [\n\u001b[0;32m     10\u001b[0m         (pl\u001b[38;5;241m.\u001b[39mcol(\u001b[38;5;124m\"\u001b[39m\u001b[38;5;124my\u001b[39m\u001b[38;5;124m\"\u001b[39m) \u001b[38;5;241m/\u001b[39m total \u001b[38;5;241m*\u001b[39m \u001b[38;5;241m2\u001b[39m \u001b[38;5;241m*\u001b[39m math\u001b[38;5;241m.\u001b[39mpi)\u001b[38;5;241m.\u001b[39malias(\u001b[38;5;124m\"\u001b[39m\u001b[38;5;124mangle\u001b[39m\u001b[38;5;124m\"\u001b[39m),\n\u001b[1;32m---> 11\u001b[0m         (\u001b[43mpl\u001b[49m\u001b[38;5;241;43m.\u001b[39;49m\u001b[43mcol\u001b[49m\u001b[43m(\u001b[49m\u001b[38;5;124;43m\"\u001b[39;49m\u001b[38;5;124;43mangle\u001b[39;49m\u001b[38;5;124;43m\"\u001b[39;49m\u001b[43m)\u001b[49m\u001b[38;5;241;43m.\u001b[39;49m\u001b[43mshift\u001b[49m\u001b[43m(\u001b[49m\u001b[38;5;241;43m1\u001b[39;49m\u001b[43m)\u001b[49m\u001b[38;5;241;43m.\u001b[39;49m\u001b[43mfill_null\u001b[49m\u001b[43m(\u001b[49m\u001b[38;5;241;43m0\u001b[39;49m\u001b[43m)\u001b[49m\u001b[38;5;241;43m.\u001b[39;49m\u001b[43mcumsum\u001b[49m() \u001b[38;5;241m+\u001b[39m math\u001b[38;5;241m.\u001b[39mpi \u001b[38;5;241m/\u001b[39m \u001b[38;5;241m2\u001b[39m)\u001b[38;5;241m.\u001b[39malias(\u001b[38;5;124m\"\u001b[39m\u001b[38;5;124mstart_angle\u001b[39m\u001b[38;5;124m\"\u001b[39m),\n\u001b[0;32m     12\u001b[0m         (pl\u001b[38;5;241m.\u001b[39mcol(\u001b[38;5;124m\"\u001b[39m\u001b[38;5;124mstart_angle\u001b[39m\u001b[38;5;124m\"\u001b[39m) \u001b[38;5;241m+\u001b[39m pl\u001b[38;5;241m.\u001b[39mcol(\u001b[38;5;124m\"\u001b[39m\u001b[38;5;124mangle\u001b[39m\u001b[38;5;124m\"\u001b[39m))\u001b[38;5;241m.\u001b[39malias(\u001b[38;5;124m\"\u001b[39m\u001b[38;5;124mend_angle\u001b[39m\u001b[38;5;124m\"\u001b[39m),\n\u001b[0;32m     13\u001b[0m         ((pl\u001b[38;5;241m.\u001b[39mcol(\u001b[38;5;124m\"\u001b[39m\u001b[38;5;124mstart_angle\u001b[39m\u001b[38;5;124m\"\u001b[39m) \u001b[38;5;241m+\u001b[39m pl\u001b[38;5;241m.\u001b[39mcol(\u001b[38;5;124m\"\u001b[39m\u001b[38;5;124mend_angle\u001b[39m\u001b[38;5;124m\"\u001b[39m)) \u001b[38;5;241m/\u001b[39m \u001b[38;5;241m2\u001b[39m)\u001b[38;5;241m.\u001b[39malias(\u001b[38;5;124m\"\u001b[39m\u001b[38;5;124mmiddle_angle\u001b[39m\u001b[38;5;124m\"\u001b[39m),\n\u001b[0;32m     14\u001b[0m         (pl\u001b[38;5;241m.\u001b[39mcol(\u001b[38;5;124m\"\u001b[39m\u001b[38;5;124mmiddle_angle\u001b[39m\u001b[38;5;124m\"\u001b[39m)\u001b[38;5;241m.\u001b[39mapply(\u001b[38;5;28;01mlambda\u001b[39;00m angle: math\u001b[38;5;241m.\u001b[39mcos(angle) \u001b[38;5;241m*\u001b[39m label_adjust_num))\u001b[38;5;241m.\u001b[39malias(\n\u001b[0;32m     15\u001b[0m             \u001b[38;5;124m\"\u001b[39m\u001b[38;5;124mlabel_x\u001b[39m\u001b[38;5;124m\"\u001b[39m\n\u001b[0;32m     16\u001b[0m         ),\n\u001b[0;32m     17\u001b[0m         (pl\u001b[38;5;241m.\u001b[39mcol(\u001b[38;5;124m\"\u001b[39m\u001b[38;5;124mmiddle_angle\u001b[39m\u001b[38;5;124m\"\u001b[39m)\u001b[38;5;241m.\u001b[39mapply(\u001b[38;5;28;01mlambda\u001b[39;00m angle: math\u001b[38;5;241m.\u001b[39msin(angle) \u001b[38;5;241m*\u001b[39m label_adjust_num))\u001b[38;5;241m.\u001b[39malias(\n\u001b[0;32m     18\u001b[0m             \u001b[38;5;124m\"\u001b[39m\u001b[38;5;124mlabel_y\u001b[39m\u001b[38;5;124m\"\u001b[39m\n\u001b[0;32m     19\u001b[0m         ),\n\u001b[0;32m     20\u001b[0m         (pl\u001b[38;5;241m.\u001b[39mcol(\u001b[38;5;124m\"\u001b[39m\u001b[38;5;124my\u001b[39m\u001b[38;5;124m\"\u001b[39m) \u001b[38;5;241m/\u001b[39m total \u001b[38;5;241m*\u001b[39m \u001b[38;5;241m100\u001b[39m)\u001b[38;5;241m.\u001b[39malias(\u001b[38;5;124m\"\u001b[39m\u001b[38;5;124mlabel_percentage\u001b[39m\u001b[38;5;124m\"\u001b[39m),\n\u001b[0;32m     21\u001b[0m         (pl\u001b[38;5;241m.\u001b[39mcol(\u001b[38;5;124m\"\u001b[39m\u001b[38;5;124my\u001b[39m\u001b[38;5;124m\"\u001b[39m)\u001b[38;5;241m.\u001b[39mapply(\u001b[38;5;28;01mlambda\u001b[39;00m y: \u001b[38;5;124mf\u001b[39m\u001b[38;5;124m\"\u001b[39m\u001b[38;5;132;01m{\u001b[39;00my\u001b[38;5;132;01m:\u001b[39;00m\u001b[38;5;124m.0f\u001b[39m\u001b[38;5;132;01m}\u001b[39;00m\u001b[38;5;124mpcs\u001b[39m\u001b[38;5;124m\"\u001b[39m))\u001b[38;5;241m.\u001b[39malias(\u001b[38;5;124m\"\u001b[39m\u001b[38;5;124mlabel_amount\u001b[39m\u001b[38;5;124m\"\u001b[39m),\n\u001b[0;32m     22\u001b[0m         (pl\u001b[38;5;241m.\u001b[39mcol(\u001b[38;5;124m\"\u001b[39m\u001b[38;5;124mlabel_percentage\u001b[39m\u001b[38;5;124m\"\u001b[39m)\u001b[38;5;241m.\u001b[39mapply(\u001b[38;5;28;01mlambda\u001b[39;00m y: \u001b[38;5;124mf\u001b[39m\u001b[38;5;124m\"\u001b[39m\u001b[38;5;132;01m{\u001b[39;00my\u001b[38;5;132;01m:\u001b[39;00m\u001b[38;5;124m.2f\u001b[39m\u001b[38;5;132;01m}\u001b[39;00m\u001b[38;5;124m%\u001b[39m\u001b[38;5;124m\"\u001b[39m))\u001b[38;5;241m.\u001b[39malias(\u001b[38;5;124m\"\u001b[39m\u001b[38;5;124mlabel_percentage\u001b[39m\u001b[38;5;124m\"\u001b[39m),\n\u001b[0;32m     23\u001b[0m     ]\n\u001b[0;32m     24\u001b[0m )\n\u001b[0;32m     26\u001b[0m df_polars\n",
      "\u001b[1;31mAttributeError\u001b[0m: 'Expr' object has no attribute 'cumsum'"
     ]
    }
   ],
   "source": [
    "import math\n",
    "\n",
    "import pandas as pd\n",
    "import polars as pl\n",
    "\n",
    "df_polars = pl.DataFrame(data.model_dump())\n",
    "\n",
    "df_polars = df_polars.with_columns(\n",
    "    [\n",
    "        (pl.col(\"y\") / total * 2 * math.pi).alias(\"angle\"),\n",
    "        (pl.col(\"angle\").shift(1).fill_null(0).cumsum() + math.pi / 2).alias(\"start_angle\"),\n",
    "        (pl.col(\"start_angle\") + pl.col(\"angle\")).alias(\"end_angle\"),\n",
    "        ((pl.col(\"start_angle\") + pl.col(\"end_angle\")) / 2).alias(\"middle_angle\"),\n",
    "        (pl.col(\"middle_angle\").apply(lambda angle: math.cos(angle) * label_adjust_num)).alias(\n",
    "            \"label_x\"\n",
    "        ),\n",
    "        (pl.col(\"middle_angle\").apply(lambda angle: math.sin(angle) * label_adjust_num)).alias(\n",
    "            \"label_y\"\n",
    "        ),\n",
    "        (pl.col(\"y\") / total * 100).alias(\"label_percentage\"),\n",
    "        (pl.col(\"y\").apply(lambda y: f\"{y:.0f}pcs\")).alias(\"label_amount\"),\n",
    "        (pl.col(\"label_percentage\").apply(lambda y: f\"{y:.2f}%\")).alias(\"label_percentage\"),\n",
    "    ]\n",
    ")\n",
    "\n",
    "df_polars"
   ]
  },
  {
   "cell_type": "code",
   "execution_count": null,
   "metadata": {},
   "outputs": [],
   "source": []
  }
 ],
 "metadata": {
  "kernelspec": {
   "display_name": "venv",
   "language": "python",
   "name": "python3"
  },
  "language_info": {
   "codemirror_mode": {
    "name": "ipython",
    "version": 3
   },
   "file_extension": ".py",
   "mimetype": "text/x-python",
   "name": "python",
   "nbconvert_exporter": "python",
   "pygments_lexer": "ipython3",
   "version": "3.11.9"
  }
 },
 "nbformat": 4,
 "nbformat_minor": 2
}
